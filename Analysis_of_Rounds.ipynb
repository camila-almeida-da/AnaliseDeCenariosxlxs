{
  "nbformat": 4,
  "nbformat_minor": 0,
  "metadata": {
    "colab": {
      "provenance": [],
      "authorship_tag": "ABX9TyMyeVL2MUzVv2gD33OOqmld",
      "include_colab_link": true
    },
    "kernelspec": {
      "name": "python3",
      "display_name": "Python 3"
    },
    "language_info": {
      "name": "python"
    }
  },
  "cells": [
    {
      "cell_type": "markdown",
      "metadata": {
        "id": "view-in-github",
        "colab_type": "text"
      },
      "source": [
        "<a href=\"https://colab.research.google.com/github/camila-almeida-da/AnaliseDeCenariosxlxs/blob/main/Analysis_of_Rounds.ipynb\" target=\"_parent\"><img src=\"https://colab.research.google.com/assets/colab-badge.svg\" alt=\"Open In Colab\"/></a>"
      ]
    },
    {
      "cell_type": "code",
      "source": [
        "import numpy as np\n",
        "import pandas as pd\n",
        "import matplotlib.pyplot as plt\n",
        "from google.colab import files\n",
        "uploaded = files.upload()"
      ],
      "metadata": {
        "colab": {
          "base_uri": "https://localhost:8080/",
          "height": 71
        },
        "id": "ToXlJM_fMbID",
        "outputId": "7338092d-eccc-4a93-c57b-5e3c1645cb42"
      },
      "execution_count": null,
      "outputs": [
        {
          "output_type": "display_data",
          "data": {
            "text/plain": [
              "<IPython.core.display.HTML object>"
            ],
            "text/html": [
              "\n",
              "     <input type=\"file\" id=\"files-202d1aba-2bb7-414e-b718-733a015f4d96\" name=\"files[]\" multiple disabled\n",
              "        style=\"border:none\" />\n",
              "     <output id=\"result-202d1aba-2bb7-414e-b718-733a015f4d96\">\n",
              "      Upload widget is only available when the cell has been executed in the\n",
              "      current browser session. Please rerun this cell to enable.\n",
              "      </output>\n",
              "      <script>// Copyright 2017 Google LLC\n",
              "//\n",
              "// Licensed under the Apache License, Version 2.0 (the \"License\");\n",
              "// you may not use this file except in compliance with the License.\n",
              "// You may obtain a copy of the License at\n",
              "//\n",
              "//      http://www.apache.org/licenses/LICENSE-2.0\n",
              "//\n",
              "// Unless required by applicable law or agreed to in writing, software\n",
              "// distributed under the License is distributed on an \"AS IS\" BASIS,\n",
              "// WITHOUT WARRANTIES OR CONDITIONS OF ANY KIND, either express or implied.\n",
              "// See the License for the specific language governing permissions and\n",
              "// limitations under the License.\n",
              "\n",
              "/**\n",
              " * @fileoverview Helpers for google.colab Python module.\n",
              " */\n",
              "(function(scope) {\n",
              "function span(text, styleAttributes = {}) {\n",
              "  const element = document.createElement('span');\n",
              "  element.textContent = text;\n",
              "  for (const key of Object.keys(styleAttributes)) {\n",
              "    element.style[key] = styleAttributes[key];\n",
              "  }\n",
              "  return element;\n",
              "}\n",
              "\n",
              "// Max number of bytes which will be uploaded at a time.\n",
              "const MAX_PAYLOAD_SIZE = 100 * 1024;\n",
              "\n",
              "function _uploadFiles(inputId, outputId) {\n",
              "  const steps = uploadFilesStep(inputId, outputId);\n",
              "  const outputElement = document.getElementById(outputId);\n",
              "  // Cache steps on the outputElement to make it available for the next call\n",
              "  // to uploadFilesContinue from Python.\n",
              "  outputElement.steps = steps;\n",
              "\n",
              "  return _uploadFilesContinue(outputId);\n",
              "}\n",
              "\n",
              "// This is roughly an async generator (not supported in the browser yet),\n",
              "// where there are multiple asynchronous steps and the Python side is going\n",
              "// to poll for completion of each step.\n",
              "// This uses a Promise to block the python side on completion of each step,\n",
              "// then passes the result of the previous step as the input to the next step.\n",
              "function _uploadFilesContinue(outputId) {\n",
              "  const outputElement = document.getElementById(outputId);\n",
              "  const steps = outputElement.steps;\n",
              "\n",
              "  const next = steps.next(outputElement.lastPromiseValue);\n",
              "  return Promise.resolve(next.value.promise).then((value) => {\n",
              "    // Cache the last promise value to make it available to the next\n",
              "    // step of the generator.\n",
              "    outputElement.lastPromiseValue = value;\n",
              "    return next.value.response;\n",
              "  });\n",
              "}\n",
              "\n",
              "/**\n",
              " * Generator function which is called between each async step of the upload\n",
              " * process.\n",
              " * @param {string} inputId Element ID of the input file picker element.\n",
              " * @param {string} outputId Element ID of the output display.\n",
              " * @return {!Iterable<!Object>} Iterable of next steps.\n",
              " */\n",
              "function* uploadFilesStep(inputId, outputId) {\n",
              "  const inputElement = document.getElementById(inputId);\n",
              "  inputElement.disabled = false;\n",
              "\n",
              "  const outputElement = document.getElementById(outputId);\n",
              "  outputElement.innerHTML = '';\n",
              "\n",
              "  const pickedPromise = new Promise((resolve) => {\n",
              "    inputElement.addEventListener('change', (e) => {\n",
              "      resolve(e.target.files);\n",
              "    });\n",
              "  });\n",
              "\n",
              "  const cancel = document.createElement('button');\n",
              "  inputElement.parentElement.appendChild(cancel);\n",
              "  cancel.textContent = 'Cancel upload';\n",
              "  const cancelPromise = new Promise((resolve) => {\n",
              "    cancel.onclick = () => {\n",
              "      resolve(null);\n",
              "    };\n",
              "  });\n",
              "\n",
              "  // Wait for the user to pick the files.\n",
              "  const files = yield {\n",
              "    promise: Promise.race([pickedPromise, cancelPromise]),\n",
              "    response: {\n",
              "      action: 'starting',\n",
              "    }\n",
              "  };\n",
              "\n",
              "  cancel.remove();\n",
              "\n",
              "  // Disable the input element since further picks are not allowed.\n",
              "  inputElement.disabled = true;\n",
              "\n",
              "  if (!files) {\n",
              "    return {\n",
              "      response: {\n",
              "        action: 'complete',\n",
              "      }\n",
              "    };\n",
              "  }\n",
              "\n",
              "  for (const file of files) {\n",
              "    const li = document.createElement('li');\n",
              "    li.append(span(file.name, {fontWeight: 'bold'}));\n",
              "    li.append(span(\n",
              "        `(${file.type || 'n/a'}) - ${file.size} bytes, ` +\n",
              "        `last modified: ${\n",
              "            file.lastModifiedDate ? file.lastModifiedDate.toLocaleDateString() :\n",
              "                                    'n/a'} - `));\n",
              "    const percent = span('0% done');\n",
              "    li.appendChild(percent);\n",
              "\n",
              "    outputElement.appendChild(li);\n",
              "\n",
              "    const fileDataPromise = new Promise((resolve) => {\n",
              "      const reader = new FileReader();\n",
              "      reader.onload = (e) => {\n",
              "        resolve(e.target.result);\n",
              "      };\n",
              "      reader.readAsArrayBuffer(file);\n",
              "    });\n",
              "    // Wait for the data to be ready.\n",
              "    let fileData = yield {\n",
              "      promise: fileDataPromise,\n",
              "      response: {\n",
              "        action: 'continue',\n",
              "      }\n",
              "    };\n",
              "\n",
              "    // Use a chunked sending to avoid message size limits. See b/62115660.\n",
              "    let position = 0;\n",
              "    do {\n",
              "      const length = Math.min(fileData.byteLength - position, MAX_PAYLOAD_SIZE);\n",
              "      const chunk = new Uint8Array(fileData, position, length);\n",
              "      position += length;\n",
              "\n",
              "      const base64 = btoa(String.fromCharCode.apply(null, chunk));\n",
              "      yield {\n",
              "        response: {\n",
              "          action: 'append',\n",
              "          file: file.name,\n",
              "          data: base64,\n",
              "        },\n",
              "      };\n",
              "\n",
              "      let percentDone = fileData.byteLength === 0 ?\n",
              "          100 :\n",
              "          Math.round((position / fileData.byteLength) * 100);\n",
              "      percent.textContent = `${percentDone}% done`;\n",
              "\n",
              "    } while (position < fileData.byteLength);\n",
              "  }\n",
              "\n",
              "  // All done.\n",
              "  yield {\n",
              "    response: {\n",
              "      action: 'complete',\n",
              "    }\n",
              "  };\n",
              "}\n",
              "\n",
              "scope.google = scope.google || {};\n",
              "scope.google.colab = scope.google.colab || {};\n",
              "scope.google.colab._files = {\n",
              "  _uploadFiles,\n",
              "  _uploadFilesContinue,\n",
              "};\n",
              "})(self);\n",
              "</script> "
            ]
          },
          "metadata": {}
        },
        {
          "output_type": "stream",
          "name": "stdout",
          "text": [
            "Saving 28.xlsx to 28.xlsx\n"
          ]
        }
      ]
    },
    {
      "cell_type": "code",
      "source": [
        "df = pd.read_excel('28.xlsx')"
      ],
      "metadata": {
        "id": "xnympf7ENQPq"
      },
      "execution_count": null,
      "outputs": []
    },
    {
      "cell_type": "code",
      "source": [
        "#transforming the object in string\n",
        "df['Different or not'] = df['Different or not'].astype('string')\n",
        "#Convert an object to datetime\n",
        "df['Counting completion time'] = pd.to_datetime(df['Counting completion time'])\n",
        "df['decimal_hour'] = df['Counting completion time'].dt.hour + df['Counting completion time'].dt.minute / 60\n",
        "df['decimal_hour'] = df['decimal_hour'].round(2)\n",
        "#df['Hour'] = df['Counting completion time'].dt.hour\n",
        "#df['Hour'].unique()\n",
        "#Split the name counting operator\n",
        "df['Name Operator'] = df['Counting operator'].str.split(' ').str[:2].str.join(' ')"
      ],
      "metadata": {
        "id": "J2tBxbnWHctt"
      },
      "execution_count": null,
      "outputs": []
    },
    {
      "cell_type": "code",
      "source": [
        "###Gruping by shifts\n",
        "# Função para classificar os turnos\n",
        "def classificar_turno(hora):\n",
        "    if 22.60 <= hora or hora < 6:   # 22:36 até 6:00 → T3\n",
        "        return 'T3'\n",
        "    elif 6 <= hora <= 14.33:        # 6:00 até 14:20 → T1\n",
        "        return 'T1'\n",
        "    else:                           # 14:21 até 22:35 → T2\n",
        "        return 'T2'\n",
        "\n",
        "# Aplicando a função ao DataFrame\n",
        "df['Shift'] = df['decimal_hour'].apply(classificar_turno)"
      ],
      "metadata": {
        "id": "Cmj66-TwQTqn"
      },
      "execution_count": null,
      "outputs": []
    },
    {
      "cell_type": "code",
      "source": [
        "df['Qtd'] = 1\n",
        "df['Different or not'].unique()"
      ],
      "metadata": {
        "colab": {
          "base_uri": "https://localhost:8080/"
        },
        "id": "rW2kBUg839v3",
        "outputId": "70820c33-a69b-4c97-a4f3-98d7a9da54ff",
        "collapsed": true
      },
      "execution_count": null,
      "outputs": [
        {
          "output_type": "execute_result",
          "data": {
            "text/plain": [
              "<StringArray>\n",
              "['No', 'yes']\n",
              "Length: 2, dtype: string"
            ]
          },
          "metadata": {},
          "execution_count": 5
        }
      ]
    },
    {
      "cell_type": "code",
      "source": [
        "df['Error or not'] = df['Different or not'].apply(lambda x: 0 if x == 'No' else 1)"
      ],
      "metadata": {
        "id": "ffODbNJ9BQwG"
      },
      "execution_count": null,
      "outputs": []
    },
    {
      "cell_type": "code",
      "source": [
        "df.columns"
      ],
      "metadata": {
        "colab": {
          "base_uri": "https://localhost:8080/"
        },
        "id": "hqcDce3-PR11",
        "outputId": "b26db1b7-336b-4b81-a3ce-a650b96bd57c"
      },
      "execution_count": null,
      "outputs": [
        {
          "output_type": "execute_result",
          "data": {
            "text/plain": [
              "Index(['Counting order No.', 'Counting task order number', 'location number',\n",
              "       'Warehouse', 'ZONE', 'roadway', 'Counting detail status',\n",
              "       'Counting order type', 'Counting mode', 'Counting Round',\n",
              "       'Number of system sub-packages', 'Number of counting sub-packages',\n",
              "       'Number of difference sub-packages', 'Different or not',\n",
              "       'Difference percentage', 'Counting operator', 'Counting start time',\n",
              "       'Counting completion time', 'Closed by', 'Close time',\n",
              "       'Reason for closing', 'decimal_hour', 'Name Operator', 'Shift', 'Qtd',\n",
              "       'Error or not'],\n",
              "      dtype='object')"
            ]
          },
          "metadata": {},
          "execution_count": 7
        }
      ]
    },
    {
      "cell_type": "code",
      "source": [
        "df.drop(columns=['Counting order No.', 'Counting task order number', 'location number',\n",
        "       'Warehouse', 'Counting detail status',\n",
        "       'Counting order type', 'Counting mode', 'Closed by', 'Close time','Reason for closing'], inplace=True)"
      ],
      "metadata": {
        "id": "dyHQgXHOCUYM"
      },
      "execution_count": null,
      "outputs": []
    },
    {
      "cell_type": "code",
      "source": [
        "df['assertion'] = np.where((df['Counting Round'] >= 2) & (df['Different or not'] == 'No'), 1, 0) #Assertividade na contagem considerando que não existe divergência na localização\n",
        "df['%'] = df['assertion'] / df['Qtd']"
      ],
      "metadata": {
        "id": "JlTjT-3RGjwD"
      },
      "execution_count": null,
      "outputs": []
    },
    {
      "cell_type": "code",
      "source": [
        "#filtered_df = df[(df['Hour'] >= 15) & (df['Hour'] <= 21)]"
      ],
      "metadata": {
        "id": "L38uZJHUaXyK"
      },
      "execution_count": null,
      "outputs": []
    },
    {
      "cell_type": "code",
      "source": [
        "#filtered_df['Hour'].unique()"
      ],
      "metadata": {
        "id": "8xeDsmR54eB-"
      },
      "execution_count": null,
      "outputs": []
    },
    {
      "cell_type": "markdown",
      "source": [
        "**Back to the code**"
      ],
      "metadata": {
        "id": "PAuHFbMffVZy"
      }
    },
    {
      "cell_type": "code",
      "source": [
        "#Removing the first round and empty box in order to investigate counting errors\n",
        "#df = df[(df['Counting Round'] != 1) ]\n",
        "#df = df[(df['Counting Round'] != 0) ]\n",
        "\n",
        "#Checking If we removing the zero and one round\n",
        "#df['Counting Round'].unique()"
      ],
      "metadata": {
        "id": "a32bxUuPYDlc"
      },
      "execution_count": null,
      "outputs": []
    },
    {
      "cell_type": "code",
      "source": [
        "## After investigate we left of 50k line for 1K line\n",
        "#perc_mistakes = [(3367/92268) * 100]\n",
        "#perc_mistakes"
      ],
      "metadata": {
        "id": "R85QuUWXg0JG"
      },
      "execution_count": null,
      "outputs": []
    },
    {
      "cell_type": "code",
      "source": [
        "## Removing line with a difference\n",
        "\n",
        "#df = df[df['Different or not'] != 'yes']"
      ],
      "metadata": {
        "id": "N5HVBj_BZSQL"
      },
      "execution_count": null,
      "outputs": []
    },
    {
      "cell_type": "markdown",
      "source": [
        "# **AVG OF ROUNDS PER SHIFT**\n",
        "\n",
        "\n"
      ],
      "metadata": {
        "id": "OQnRaG2ljVP2"
      }
    },
    {
      "cell_type": "code",
      "source": [
        "##Mean of freq of rounds within de one and zero rounds(empty box)\n",
        "\n",
        "df_freq = df.groupby('Shift')['Counting Round'].mean().sort_values(ascending=False).round(2)\n",
        "\n",
        "# Adicionar a linha da média\n",
        "#plt.axhline(y=media, color='r', linestyle='--', label=f'Média: {media:.2f}')\n",
        "\n",
        "#Code of visualization\n",
        "\n",
        "df_freq.plot(kind='bar')\n",
        "plt.title('Média de Rounds')\n",
        "plt.xlabel('Shift')\n",
        "plt.ylabel('Mean')\n",
        "\n",
        "for i, v in enumerate(df_freq):\n",
        "    plt.text(i, v, str(v), ha='center', va='bottom')\n",
        "\n",
        "plt.show()"
      ],
      "metadata": {
        "id": "9eGGv9UOTHCR",
        "colab": {
          "base_uri": "https://localhost:8080/",
          "height": 475
        },
        "outputId": "f7d8d5fa-3b1e-41bf-a55e-2359cc11407e"
      },
      "execution_count": null,
      "outputs": [
        {
          "output_type": "display_data",
          "data": {
            "text/plain": [
              "<Figure size 640x480 with 1 Axes>"
            ],
            "image/png": "[encoded data removed]"
          },
          "metadata": {}
        }
      ]
    },
    {
      "cell_type": "markdown",
      "source": [
        "# **FREQUENCY OF ROUNDS**"
      ],
      "metadata": {
        "id": "B2Cail-7pgMz"
      }
    },
    {
      "cell_type": "code",
      "source": [
        "#Frequency of rounds disregarding\n",
        "\n",
        "frequencia = df['Counting Round'].value_counts()\n",
        "\n",
        "# Adicionar a linha da média\n",
        "#plt.axhline(y=median, color='r', linestyle='--', label=f'Média: {median:.2f}')\n",
        "\n",
        "frequencia.plot(kind='bar')\n",
        "plt.title('Frequencias de Rounds')\n",
        "plt.xlabel('Rounds')\n",
        "plt.ylabel('Frequencia')\n",
        "\n",
        "for i, v in enumerate(frequencia):\n",
        "    plt.text(i, v, str(v), ha='center', va='bottom')\n",
        "\n",
        "plt.show()"
      ],
      "metadata": {
        "id": "8xTSA2-EjqQm",
        "colab": {
          "base_uri": "https://localhost:8080/",
          "height": 467
        },
        "outputId": "41ec8d30-bdfa-4b1a-f915-e59c0b151062"
      },
      "execution_count": null,
      "outputs": [
        {
          "output_type": "display_data",
          "data": {
            "text/plain": [
              "<Figure size 640x480 with 1 Axes>"
            ],
            "image/png": "[encoded data removed]"
          },
          "metadata": {}
        }
      ]
    },
    {
      "cell_type": "code",
      "source": [
        "df.shape"
      ],
      "metadata": {
        "colab": {
          "base_uri": "https://localhost:8080/"
        },
        "id": "HjL6Mk-2Clsb",
        "outputId": "576618dc-6be9-4e66-b81f-20c38b5cf7ae"
      },
      "execution_count": null,
      "outputs": [
        {
          "output_type": "execute_result",
          "data": {
            "text/plain": [
              "(253732, 18)"
            ]
          },
          "metadata": {},
          "execution_count": 17
        }
      ]
    },
    {
      "cell_type": "code",
      "source": [
        "rouds2 = (1 - (249/253.7))##apenas 0,02 posições foram contadas em mais de 1 round\n",
        "qtd_pos_2 = 253732*0.0179 #Localizações contaddas em mais de um round\n",
        "qtd_err = qtd_pos_2 - len(df[(df['Different or not'] == \"yes\")])\n",
        "perc_without_div = qtd_err/253732"
      ],
      "metadata": {
        "id": "CSo-kAKI5wpF"
      },
      "execution_count": null,
      "outputs": []
    },
    {
      "cell_type": "code",
      "source": [
        " ## Colaboradores que biparam mais de duas vezes sem haver divergência\n",
        " df_errors = (df[df['assertion'] == 1])"
      ],
      "metadata": {
        "id": "GMtlCNJCE7j2"
      },
      "execution_count": null,
      "outputs": []
    },
    {
      "cell_type": "markdown",
      "source": [
        "# **LOCALIZAÇÕES SEM DIVERGÊNCIA COM MAIS DE DOIS ROUNDS**"
      ],
      "metadata": {
        "id": "aJFDqnEM-jxB"
      }
    },
    {
      "cell_type": "code",
      "source": [
        "df_error = df.groupby(['Name Operator','Shift'])['%'].mean().sort_values(ascending=False).round(2).head(10)\n",
        "df_error"
      ],
      "metadata": {
        "colab": {
          "base_uri": "https://localhost:8080/",
          "height": 429
        },
        "id": "O0T0tFSvKi8X",
        "outputId": "1893d087-2534-4a47-8d4a-95e716917f29"
      },
      "execution_count": null,
      "outputs": [
        {
          "output_type": "execute_result",
          "data": {
            "text/plain": [
              "Name Operator                Shift\n",
              "ADRIANA FERNANDES(60047306)  T3       0.03\n",
              "MÁRCIA ARAÚJO                T3       0.03\n",
              "RENAN MENDONÇA(60047422)     T3       0.02\n",
              "LUANA DE                     T3       0.02\n",
              "EVILEN EVILEN                T3       0.02\n",
              "NATHALIA ASATO(60045774)     T3       0.02\n",
              "MIRIÃ ROSA(60037686)         T3       0.02\n",
              "LUCAS LIMA(60037609)         T3       0.02\n",
              "VITORIA SANTOS(60037885)     T3       0.01\n",
              "STHEFANY DE                  T3       0.01\n",
              "Name: %, dtype: float64"
            ],
            "text/html": [
              "<div>\n",
              "<style scoped>\n",
              "    .dataframe tbody tr th:only-of-type {\n",
              "        vertical-align: middle;\n",
              "    }\n",
              "\n",
              "    .dataframe tbody tr th {\n",
              "        vertical-align: top;\n",
              "    }\n",
              "\n",
              "    .dataframe thead th {\n",
              "        text-align: right;\n",
              "    }\n",
              "</style>\n",
              "<table border=\"1\" class=\"dataframe\">\n",
              "  <thead>\n",
              "    <tr style=\"text-align: right;\">\n",
              "      <th></th>\n",
              "      <th></th>\n",
              "      <th>%</th>\n",
              "    </tr>\n",
              "    <tr>\n",
              "      <th>Name Operator</th>\n",
              "      <th>Shift</th>\n",
              "      <th></th>\n",
              "    </tr>\n",
              "  </thead>\n",
              "  <tbody>\n",
              "    <tr>\n",
              "      <th>ADRIANA FERNANDES(60047306)</th>\n",
              "      <th>T3</th>\n",
              "      <td>0.03</td>\n",
              "    </tr>\n",
              "    <tr>\n",
              "      <th>MÁRCIA ARAÚJO</th>\n",
              "      <th>T3</th>\n",
              "      <td>0.03</td>\n",
              "    </tr>\n",
              "    <tr>\n",
              "      <th>RENAN MENDONÇA(60047422)</th>\n",
              "      <th>T3</th>\n",
              "      <td>0.02</td>\n",
              "    </tr>\n",
              "    <tr>\n",
              "      <th>LUANA DE</th>\n",
              "      <th>T3</th>\n",
              "      <td>0.02</td>\n",
              "    </tr>\n",
              "    <tr>\n",
              "      <th>EVILEN EVILEN</th>\n",
              "      <th>T3</th>\n",
              "      <td>0.02</td>\n",
              "    </tr>\n",
              "    <tr>\n",
              "      <th>NATHALIA ASATO(60045774)</th>\n",
              "      <th>T3</th>\n",
              "      <td>0.02</td>\n",
              "    </tr>\n",
              "    <tr>\n",
              "      <th>MIRIÃ ROSA(60037686)</th>\n",
              "      <th>T3</th>\n",
              "      <td>0.02</td>\n",
              "    </tr>\n",
              "    <tr>\n",
              "      <th>LUCAS LIMA(60037609)</th>\n",
              "      <th>T3</th>\n",
              "      <td>0.02</td>\n",
              "    </tr>\n",
              "    <tr>\n",
              "      <th>VITORIA SANTOS(60037885)</th>\n",
              "      <th>T3</th>\n",
              "      <td>0.01</td>\n",
              "    </tr>\n",
              "    <tr>\n",
              "      <th>STHEFANY DE</th>\n",
              "      <th>T3</th>\n",
              "      <td>0.01</td>\n",
              "    </tr>\n",
              "  </tbody>\n",
              "</table>\n",
              "</div><br><label><b>dtype:</b> float64</label>"
            ]
          },
          "metadata": {},
          "execution_count": 36
        }
      ]
    },
    {
      "cell_type": "code",
      "source": [
        "# Criando o gráfico de barras\n",
        "# Criando o gráfico de barras\n",
        "plt.figure(figsize=(8, 5))\n",
        "bars = df_error.plot(kind='bar', color='blue')\n",
        "\n",
        "# Adicionando rótulos manualmente nas barras (ajustando a posição)\n",
        "for idx, value in enumerate(df_error):\n",
        "    plt.text(idx, value + 0.0002, str(value), ha='center', va='bottom')  # Ajuste o valor de 'value + 0.2' para ajustar a altura\n",
        "\n",
        "# Personalizando o gráfico\n",
        "plt.xlabel('Operador')\n",
        "plt.ylabel('Quantidade de Erros')\n",
        "plt.title('Erros por Operador')\n",
        "\n",
        "plt.show()"
      ],
      "metadata": {
        "id": "5HlaaJA5RKvO",
        "colab": {
          "base_uri": "https://localhost:8080/",
          "height": 744
        },
        "outputId": "80000764-ed2c-46ef-f0de-db5c60c7ff47"
      },
      "execution_count": null,
      "outputs": [
        {
          "output_type": "display_data",
          "data": {
            "text/plain": [
              "<Figure size 800x500 with 1 Axes>"
            ],
            "image/png": "[encoded data removed]"
          },
          "metadata": {}
        }
      ]
    },
    {
      "cell_type": "code",
      "source": [
        "# Definindo o número que você quer contar (ex: o número 2)\n",
        "numero_especifico = \"RENAN MENDONÇA(60047422)\"\n",
        "\n",
        "# Contando quantas vezes o número aparece no DataFrame\n",
        "contagem = df.apply(lambda x: (x == numero_especifico).sum()).sum()\n",
        "\n",
        "print(f'O número {numero_especifico} aparece {contagem} vezes no DataFrame.')"
      ],
      "metadata": {
        "id": "sGtB2aTPa5Jd",
        "colab": {
          "base_uri": "https://localhost:8080/"
        },
        "outputId": "aad8563e-3fec-4ce9-9d6c-adbaf73400c4"
      },
      "execution_count": null,
      "outputs": [
        {
          "output_type": "stream",
          "name": "stdout",
          "text": [
            "O número RENAN MENDONÇA(60047422) aparece 3056 vezes no DataFrame.\n"
          ]
        }
      ]
    },
    {
      "cell_type": "code",
      "source": [
        "df['Qtd'].sum()"
      ],
      "metadata": {
        "id": "G8b9m7BlY4_p",
        "colab": {
          "base_uri": "https://localhost:8080/"
        },
        "outputId": "ec7d558d-ea87-414e-c954-fc06a9538dcb"
      },
      "execution_count": null,
      "outputs": [
        {
          "output_type": "execute_result",
          "data": {
            "text/plain": [
              "np.int64(253590)"
            ]
          },
          "metadata": {},
          "execution_count": 39
        }
      ]
    },
    {
      "cell_type": "code",
      "source": [
        "df.shape"
      ],
      "metadata": {
        "colab": {
          "base_uri": "https://localhost:8080/"
        },
        "id": "TER4tikauB8_",
        "outputId": "799bdb27-f89e-4763-bf80-c781b0b7d49a"
      },
      "execution_count": null,
      "outputs": [
        {
          "output_type": "execute_result",
          "data": {
            "text/plain": [
              "(253590, 18)"
            ]
          },
          "metadata": {},
          "execution_count": 40
        }
      ]
    },
    {
      "cell_type": "code",
      "source": [
        "df_mean = df.groupby(['Name Operator','Shift'])['Qtd'].count().sort_values(ascending=False).round(2).head(10)\n",
        "df_mean"
      ],
      "metadata": {
        "colab": {
          "base_uri": "https://localhost:8080/",
          "height": 429
        },
        "id": "woZHnsf_rZ6X",
        "outputId": "79831536-3682-4f32-e1a5-88e68ac32b3c"
      },
      "execution_count": null,
      "outputs": [
        {
          "output_type": "execute_result",
          "data": {
            "text/plain": [
              "Name Operator               Shift\n",
              "GABRIEL OLIVEIRA            T1       16798\n",
              "HEVELLYN MIRANDA(60044196)  T1       13820\n",
              "TALITA BARBOSA(60044246)    T1       13385\n",
              "JOSÉ MARCOS                 T1       13322\n",
              "RAYSSA CASTELO              T2       11592\n",
              "EVILLA ABIGAIL              T2       11320\n",
              "VIVIAN BONFIM               T2       11159\n",
              "ROSANGELA SILVA(60037768)   T1        9903\n",
              "JOSE ANTONIO                T1        9514\n",
              "KETHELYN LAUANE             T2        9100\n",
              "Name: Qtd, dtype: int64"
            ],
            "text/html": [
              "<div>\n",
              "<style scoped>\n",
              "    .dataframe tbody tr th:only-of-type {\n",
              "        vertical-align: middle;\n",
              "    }\n",
              "\n",
              "    .dataframe tbody tr th {\n",
              "        vertical-align: top;\n",
              "    }\n",
              "\n",
              "    .dataframe thead th {\n",
              "        text-align: right;\n",
              "    }\n",
              "</style>\n",
              "<table border=\"1\" class=\"dataframe\">\n",
              "  <thead>\n",
              "    <tr style=\"text-align: right;\">\n",
              "      <th></th>\n",
              "      <th></th>\n",
              "      <th>Qtd</th>\n",
              "    </tr>\n",
              "    <tr>\n",
              "      <th>Name Operator</th>\n",
              "      <th>Shift</th>\n",
              "      <th></th>\n",
              "    </tr>\n",
              "  </thead>\n",
              "  <tbody>\n",
              "    <tr>\n",
              "      <th>GABRIEL OLIVEIRA</th>\n",
              "      <th>T1</th>\n",
              "      <td>16798</td>\n",
              "    </tr>\n",
              "    <tr>\n",
              "      <th>HEVELLYN MIRANDA(60044196)</th>\n",
              "      <th>T1</th>\n",
              "      <td>13820</td>\n",
              "    </tr>\n",
              "    <tr>\n",
              "      <th>TALITA BARBOSA(60044246)</th>\n",
              "      <th>T1</th>\n",
              "      <td>13385</td>\n",
              "    </tr>\n",
              "    <tr>\n",
              "      <th>JOSÉ MARCOS</th>\n",
              "      <th>T1</th>\n",
              "      <td>13322</td>\n",
              "    </tr>\n",
              "    <tr>\n",
              "      <th>RAYSSA CASTELO</th>\n",
              "      <th>T2</th>\n",
              "      <td>11592</td>\n",
              "    </tr>\n",
              "    <tr>\n",
              "      <th>EVILLA ABIGAIL</th>\n",
              "      <th>T2</th>\n",
              "      <td>11320</td>\n",
              "    </tr>\n",
              "    <tr>\n",
              "      <th>VIVIAN BONFIM</th>\n",
              "      <th>T2</th>\n",
              "      <td>11159</td>\n",
              "    </tr>\n",
              "    <tr>\n",
              "      <th>ROSANGELA SILVA(60037768)</th>\n",
              "      <th>T1</th>\n",
              "      <td>9903</td>\n",
              "    </tr>\n",
              "    <tr>\n",
              "      <th>JOSE ANTONIO</th>\n",
              "      <th>T1</th>\n",
              "      <td>9514</td>\n",
              "    </tr>\n",
              "    <tr>\n",
              "      <th>KETHELYN LAUANE</th>\n",
              "      <th>T2</th>\n",
              "      <td>9100</td>\n",
              "    </tr>\n",
              "  </tbody>\n",
              "</table>\n",
              "</div><br><label><b>dtype:</b> int64</label>"
            ]
          },
          "metadata": {},
          "execution_count": 41
        }
      ]
    },
    {
      "cell_type": "code",
      "source": [
        "df_mean.mean()"
      ],
      "metadata": {
        "colab": {
          "base_uri": "https://localhost:8080/"
        },
        "id": "RXiGnI5buvK5",
        "outputId": "5ab54ba5-90d7-49e1-d4bb-3b8cf085f3aa"
      },
      "execution_count": null,
      "outputs": [
        {
          "output_type": "execute_result",
          "data": {
            "text/plain": [
              "np.float64(11991.3)"
            ]
          },
          "metadata": {},
          "execution_count": 42
        }
      ]
    },
    {
      "cell_type": "code",
      "source": [
        "contagem = df['Name Operator'].value_counts()\n",
        "contagem[30:]"
      ],
      "metadata": {
        "colab": {
          "base_uri": "https://localhost:8080/",
          "height": 806
        },
        "id": "z7LJ6lhYt5lH",
        "outputId": "ff92fe65-32a8-441e-d6bc-01665462094e"
      },
      "execution_count": null,
      "outputs": [
        {
          "output_type": "execute_result",
          "data": {
            "text/plain": [
              "Name Operator\n",
              "LUCAS LIMA(60037609)           2799\n",
              "GABRIEL SANTOS(60036147)       2764\n",
              "VITORIA SANTOS(60037885)       2537\n",
              "MELISSA DE                     2216\n",
              "GRAZIELLY RENATA               2091\n",
              "MÁRCIA ARAÚJO                  2064\n",
              "ABINOA MILANE                  2040\n",
              "JANAINA MARASCO(60051498)      1917\n",
              "SUSANA PEREIRA                 1880\n",
              "STELA MARIA                    1721\n",
              "RENAN MENDONÇA(60047422)       1528\n",
              "MONALIZA SANTOS(60044264)      1470\n",
              "DAYANA SANTOS(60037269)        1242\n",
              "DANIELA DOS                    1091\n",
              "LUANA DE                        980\n",
              "JANAINA PINTO(60037472)         980\n",
              "NATHALIA ALVES(60037699)        858\n",
              "NATHALIA ASATO(60045774)        840\n",
              "RAFAEL COSTA(60037734)          490\n",
              "ADRIANA FERNANDES(60047306)     487\n",
              "ISRAEL OLIVEIRA(60037458)       478\n",
              "AMANDA GUEDES(60045721)         455\n",
              "Name: count, dtype: int64"
            ],
            "text/html": [
              "<div>\n",
              "<style scoped>\n",
              "    .dataframe tbody tr th:only-of-type {\n",
              "        vertical-align: middle;\n",
              "    }\n",
              "\n",
              "    .dataframe tbody tr th {\n",
              "        vertical-align: top;\n",
              "    }\n",
              "\n",
              "    .dataframe thead th {\n",
              "        text-align: right;\n",
              "    }\n",
              "</style>\n",
              "<table border=\"1\" class=\"dataframe\">\n",
              "  <thead>\n",
              "    <tr style=\"text-align: right;\">\n",
              "      <th></th>\n",
              "      <th>count</th>\n",
              "    </tr>\n",
              "    <tr>\n",
              "      <th>Name Operator</th>\n",
              "      <th></th>\n",
              "    </tr>\n",
              "  </thead>\n",
              "  <tbody>\n",
              "    <tr>\n",
              "      <th>LUCAS LIMA(60037609)</th>\n",
              "      <td>2799</td>\n",
              "    </tr>\n",
              "    <tr>\n",
              "      <th>GABRIEL SANTOS(60036147)</th>\n",
              "      <td>2764</td>\n",
              "    </tr>\n",
              "    <tr>\n",
              "      <th>VITORIA SANTOS(60037885)</th>\n",
              "      <td>2537</td>\n",
              "    </tr>\n",
              "    <tr>\n",
              "      <th>MELISSA DE</th>\n",
              "      <td>2216</td>\n",
              "    </tr>\n",
              "    <tr>\n",
              "      <th>GRAZIELLY RENATA</th>\n",
              "      <td>2091</td>\n",
              "    </tr>\n",
              "    <tr>\n",
              "      <th>MÁRCIA ARAÚJO</th>\n",
              "      <td>2064</td>\n",
              "    </tr>\n",
              "    <tr>\n",
              "      <th>ABINOA MILANE</th>\n",
              "      <td>2040</td>\n",
              "    </tr>\n",
              "    <tr>\n",
              "      <th>JANAINA MARASCO(60051498)</th>\n",
              "      <td>1917</td>\n",
              "    </tr>\n",
              "    <tr>\n",
              "      <th>SUSANA PEREIRA</th>\n",
              "      <td>1880</td>\n",
              "    </tr>\n",
              "    <tr>\n",
              "      <th>STELA MARIA</th>\n",
              "      <td>1721</td>\n",
              "    </tr>\n",
              "    <tr>\n",
              "      <th>RENAN MENDONÇA(60047422)</th>\n",
              "      <td>1528</td>\n",
              "    </tr>\n",
              "    <tr>\n",
              "      <th>MONALIZA SANTOS(60044264)</th>\n",
              "      <td>1470</td>\n",
              "    </tr>\n",
              "    <tr>\n",
              "      <th>DAYANA SANTOS(60037269)</th>\n",
              "      <td>1242</td>\n",
              "    </tr>\n",
              "    <tr>\n",
              "      <th>DANIELA DOS</th>\n",
              "      <td>1091</td>\n",
              "    </tr>\n",
              "    <tr>\n",
              "      <th>LUANA DE</th>\n",
              "      <td>980</td>\n",
              "    </tr>\n",
              "    <tr>\n",
              "      <th>JANAINA PINTO(60037472)</th>\n",
              "      <td>980</td>\n",
              "    </tr>\n",
              "    <tr>\n",
              "      <th>NATHALIA ALVES(60037699)</th>\n",
              "      <td>858</td>\n",
              "    </tr>\n",
              "    <tr>\n",
              "      <th>NATHALIA ASATO(60045774)</th>\n",
              "      <td>840</td>\n",
              "    </tr>\n",
              "    <tr>\n",
              "      <th>RAFAEL COSTA(60037734)</th>\n",
              "      <td>490</td>\n",
              "    </tr>\n",
              "    <tr>\n",
              "      <th>ADRIANA FERNANDES(60047306)</th>\n",
              "      <td>487</td>\n",
              "    </tr>\n",
              "    <tr>\n",
              "      <th>ISRAEL OLIVEIRA(60037458)</th>\n",
              "      <td>478</td>\n",
              "    </tr>\n",
              "    <tr>\n",
              "      <th>AMANDA GUEDES(60045721)</th>\n",
              "      <td>455</td>\n",
              "    </tr>\n",
              "  </tbody>\n",
              "</table>\n",
              "</div><br><label><b>dtype:</b> int64</label>"
            ]
          },
          "metadata": {},
          "execution_count": 43
        }
      ]
    },
    {
      "cell_type": "code",
      "source": [
        "exclude = ['Vitor Rocha(10066772)', \"RODRIGO ROSA\"]\n",
        "df = df[~df['Name Operator'].isin(exclude)]"
      ],
      "metadata": {
        "id": "h1Ha9sZsvYnB"
      },
      "execution_count": null,
      "outputs": []
    },
    {
      "cell_type": "code",
      "source": [
        "contagem = df['Name Operator'].value_counts(30)\n",
        "média = contagem.mean()\n",
        "print(f'Média de contagem por colaborador: {média}')"
      ],
      "metadata": {
        "colab": {
          "base_uri": "https://localhost:8080/"
        },
        "id": "Nk3Rwhymtbn-",
        "outputId": "332bad16-8189-49b1-a33a-c5f62a3cc8ed"
      },
      "execution_count": null,
      "outputs": [
        {
          "output_type": "stream",
          "name": "stdout",
          "text": [
            "Média de contagem por colaborador: 0.01923076923076923\n"
          ]
        }
      ]
    },
    {
      "cell_type": "code",
      "source": [
        "#Validation of what can be round zero\n",
        "#df_zero = df[df['Counting Round'] == 0]\n",
        "#df_zero.loc[:,['Counting Round', 'Number of system sub-packages', 'Number of counting sub-packages',\n",
        "       #'Number of difference sub-packages', 'Different or not' ]]"
      ],
      "metadata": {
        "id": "s9EfwGMpYCVk"
      },
      "execution_count": null,
      "outputs": []
    },
    {
      "cell_type": "code",
      "source": [
        "# Salvando como CSV\n",
        "#merged.to_csv('arquivo.csv', index=False)\n",
        "\n",
        "# Baixar o arquivo direto no Colab\n",
        "#from google.colab import files\n",
        "#files.download('arquivo.csv')"
      ],
      "metadata": {
        "id": "QrvAH5fJpUuL"
      },
      "execution_count": null,
      "outputs": []
    },
    {
      "cell_type": "code",
      "source": [
        "#import pandas as pd\n",
        "#import matplotlib.pyplot as plt\n",
        "#from google.colab import files\n",
        "#uploaded = files.upload()"
      ],
      "metadata": {
        "id": "d9RyAZ3qQMjW"
      },
      "execution_count": null,
      "outputs": []
    },
    {
      "cell_type": "code",
      "source": [
        "#df = pd.read_csv('arquivo.csv')"
      ],
      "metadata": {
        "id": "rzSGM2fxQjmr"
      },
      "execution_count": null,
      "outputs": []
    },
    {
      "cell_type": "code",
      "source": [
        "#df.head()"
      ],
      "metadata": {
        "id": "4m85v8n1Q3sA"
      },
      "execution_count": null,
      "outputs": []
    },
    {
      "cell_type": "markdown",
      "source": [
        "# **FRENQUENCY OF ROUND PER SHIFT**\n",
        "\n"
      ],
      "metadata": {
        "id": "-mtKYQEhjlW8"
      }
    },
    {
      "cell_type": "code",
      "source": [
        "# @title\n",
        "# Criando os subgráficos lado a lado\n",
        "fig, ax = plt.subplots(1, 2, figsize=(12, 6))  # 1 linha, 2 colunas\n",
        "\n",
        "# Gráfico 1: avg of rounfs\n",
        "bars_a = ax[0].bar(df_freq.index,df_freq, color='skyblue')\n",
        "ax[0].set_title('AVG ROUND')\n",
        "ax[0].set_xlabel('Shift')\n",
        "ax[0].set_ylabel('Counting Round')\n",
        "\n",
        "#Rótlos ax[0]\n",
        "\n",
        "ax[0].bar_label(bars_a)\n",
        "\n",
        "# Gráfico 2: Frequency of round per shift\n",
        "bars_b = ax[1].bar(frequencia.index,frequencia, color='skyblue')\n",
        "ax[1].set_title('FREQUENCY OF ROUND PER SHIFT')\n",
        "ax[1].set_xlabel('Shift')\n",
        "ax[1].set_ylabel('Counting Round')\n",
        "\n",
        "#Rótulos ax [1]\n",
        "\n",
        "ax[1].bar_label(bars_b)\n",
        "\n"
      ],
      "metadata": {
        "colab": {
          "base_uri": "https://localhost:8080/",
          "height": 703
        },
        "id": "Lw68gaM6OsbQ",
        "outputId": "ac03d706-24ed-4b64-c2e3-59b47e82a6d9",
        "cellView": "form"
      },
      "execution_count": null,
      "outputs": [
        {
          "output_type": "execute_result",
          "data": {
            "text/plain": [
              "[Text(0, 0, '249174'),\n",
              " Text(0, 0, '2731'),\n",
              " Text(0, 0, '1729'),\n",
              " Text(0, 0, '66'),\n",
              " Text(0, 0, '26'),\n",
              " Text(0, 0, '4'),\n",
              " Text(0, 0, '1'),\n",
              " Text(0, 0, '1')]"
            ]
          },
          "metadata": {},
          "execution_count": 67
        },
        {
          "output_type": "display_data",
          "data": {
            "text/plain": [
              "<Figure size 1200x600 with 2 Axes>"
            ],
            "image/png": "[encoded data removed]"
          },
          "metadata": {}
        }
      ]
    },
    {
      "cell_type": "code",
      "source": [
        "# @title\n",
        "print(f\"Das 259k posições bipadas apenas {rouds2} posições foram acima de dois rounds totalizando {qtd_pos_2} localizações, sendo destas {qtd_err} localizações sem divergência com mais de dois rounds, ou seja apenas {perc_without_div} são erros operacionais!\")"
      ],
      "metadata": {
        "colab": {
          "base_uri": "https://localhost:8080/"
        },
        "id": "xSL1B5uILYIo",
        "outputId": "53258191-7fb7-4e76-e54a-8e440d66b64b",
        "cellView": "form"
      },
      "execution_count": null,
      "outputs": [
        {
          "output_type": "stream",
          "name": "stdout",
          "text": [
            "Das 259k posições bipadas apenas 0.01852581789515173 posições foram acima de dois rounds totalizando 4541.8027999999995 localizações, sendo destas 1610.8027999999995 localizações sem divergência com mais de dois rounds, ou seja apenas 0.006348441662856871 são erros operacionais!\n"
          ]
        }
      ]
    },
    {
      "cell_type": "markdown",
      "source": [
        "## **LOCALIZAÇÕES SEM DIVERGÊNCIA COM MAIS DE DOIS ROUNDS**"
      ],
      "metadata": {
        "id": "msfwvw1DZ0a1"
      }
    },
    {
      "cell_type": "code",
      "source": [
        "# @title\n",
        "# Criando o gráfico de barras\n",
        "# Criando o gráfico de barras\n",
        "plt.figure(figsize=(8, 5))\n",
        "bars = df_error.plot(kind='bar', color='blue')\n",
        "\n",
        "# Adicionando rótulos manualmente nas barras (ajustando a posição)\n",
        "for idx, value in enumerate(df_error):\n",
        "    plt.text(idx, value + 0.0002, str(value), ha='center', va='bottom')  # Ajuste o valor de 'value + 0.2' para ajustar a altura\n",
        "\n",
        "# Personalizando o gráfico\n",
        "plt.xlabel('Operador')\n",
        "plt.ylabel('Quantidade de Erros')\n",
        "plt.title('PERCENTUAL DE ERROS POR OPERADOR')\n",
        "\n",
        "plt.show()"
      ],
      "metadata": {
        "colab": {
          "base_uri": "https://localhost:8080/",
          "height": 744
        },
        "id": "LMb7foNJZmq5",
        "outputId": "8e42932a-26c3-4015-db25-8a85ff48eed2",
        "cellView": "form"
      },
      "execution_count": null,
      "outputs": [
        {
          "output_type": "display_data",
          "data": {
            "text/plain": [
              "<Figure size 800x500 with 1 Axes>"
            ],
            "image/png": "[encoded data removed]"
          },
          "metadata": {}
        }
      ]
    },
    {
      "cell_type": "markdown",
      "source": [
        "# **PRODUCTIVITY TOP 10**"
      ],
      "metadata": {
        "id": "c8jMGPehj5-L"
      }
    },
    {
      "cell_type": "code",
      "source": [
        "# @title\n",
        "df_mean df.groupby(['Name Operator','Shift'])['Qtd'].count().sort_values(ascending=False).round(2).head(10)\n",
        "df_mean"
      ],
      "metadata": {
        "colab": {
          "base_uri": "https://localhost:8080/",
          "height": 429
        },
        "id": "djmRqEZfkYKS",
        "outputId": "a70f1216-8055-46c3-fda7-ab5af525ddce",
        "cellView": "form"
      },
      "execution_count": null,
      "outputs": [
        {
          "output_type": "execute_result",
          "data": {
            "text/plain": [
              "Name Operator               Shift\n",
              "GABRIEL OLIVEIRA            T1       16798\n",
              "HEVELLYN MIRANDA(60044196)  T1       13820\n",
              "TALITA BARBOSA(60044246)    T1       13385\n",
              "JOSÉ MARCOS                 T1       13322\n",
              "RAYSSA CASTELO              T2       11592\n",
              "EVILLA ABIGAIL              T2       11320\n",
              "VIVIAN BONFIM               T2       11159\n",
              "ROSANGELA SILVA(60037768)   T1        9903\n",
              "JOSE ANTONIO                T1        9514\n",
              "KETHELYN LAUANE             T2        9100\n",
              "Name: Qtd, dtype: int64"
            ],
            "text/html": [
              "<div>\n",
              "<style scoped>\n",
              "    .dataframe tbody tr th:only-of-type {\n",
              "        vertical-align: middle;\n",
              "    }\n",
              "\n",
              "    .dataframe tbody tr th {\n",
              "        vertical-align: top;\n",
              "    }\n",
              "\n",
              "    .dataframe thead th {\n",
              "        text-align: right;\n",
              "    }\n",
              "</style>\n",
              "<table border=\"1\" class=\"dataframe\">\n",
              "  <thead>\n",
              "    <tr style=\"text-align: right;\">\n",
              "      <th></th>\n",
              "      <th></th>\n",
              "      <th>Qtd</th>\n",
              "    </tr>\n",
              "    <tr>\n",
              "      <th>Name Operator</th>\n",
              "      <th>Shift</th>\n",
              "      <th></th>\n",
              "    </tr>\n",
              "  </thead>\n",
              "  <tbody>\n",
              "    <tr>\n",
              "      <th>GABRIEL OLIVEIRA</th>\n",
              "      <th>T1</th>\n",
              "      <td>16798</td>\n",
              "    </tr>\n",
              "    <tr>\n",
              "      <th>HEVELLYN MIRANDA(60044196)</th>\n",
              "      <th>T1</th>\n",
              "      <td>13820</td>\n",
              "    </tr>\n",
              "    <tr>\n",
              "      <th>TALITA BARBOSA(60044246)</th>\n",
              "      <th>T1</th>\n",
              "      <td>13385</td>\n",
              "    </tr>\n",
              "    <tr>\n",
              "      <th>JOSÉ MARCOS</th>\n",
              "      <th>T1</th>\n",
              "      <td>13322</td>\n",
              "    </tr>\n",
              "    <tr>\n",
              "      <th>RAYSSA CASTELO</th>\n",
              "      <th>T2</th>\n",
              "      <td>11592</td>\n",
              "    </tr>\n",
              "    <tr>\n",
              "      <th>EVILLA ABIGAIL</th>\n",
              "      <th>T2</th>\n",
              "      <td>11320</td>\n",
              "    </tr>\n",
              "    <tr>\n",
              "      <th>VIVIAN BONFIM</th>\n",
              "      <th>T2</th>\n",
              "      <td>11159</td>\n",
              "    </tr>\n",
              "    <tr>\n",
              "      <th>ROSANGELA SILVA(60037768)</th>\n",
              "      <th>T1</th>\n",
              "      <td>9903</td>\n",
              "    </tr>\n",
              "    <tr>\n",
              "      <th>JOSE ANTONIO</th>\n",
              "      <th>T1</th>\n",
              "      <td>9514</td>\n",
              "    </tr>\n",
              "    <tr>\n",
              "      <th>KETHELYN LAUANE</th>\n",
              "      <th>T2</th>\n",
              "      <td>9100</td>\n",
              "    </tr>\n",
              "  </tbody>\n",
              "</table>\n",
              "</div><br><label><b>dtype:</b> int64</label>"
            ]
          },
          "metadata": {},
          "execution_count": 76
        }
      ]
    },
    {
      "cell_type": "code",
      "source": [
        "# @title\n",
        "df_avg = df_mean.mean()"
      ],
      "metadata": {
        "id": "CxqW1iACkyE_",
        "cellView": "form"
      },
      "execution_count": null,
      "outputs": []
    },
    {
      "cell_type": "code",
      "source": [
        "# @title\n",
        "print(f'Média de contagem por colaborador: {df_avg}')"
      ],
      "metadata": {
        "colab": {
          "base_uri": "https://localhost:8080/"
        },
        "id": "dI_fipyzkp5i",
        "outputId": "35a43c80-2901-4300-bf55-21fd8d62ad01",
        "cellView": "form"
      },
      "execution_count": null,
      "outputs": [
        {
          "output_type": "stream",
          "name": "stdout",
          "text": [
            "Média de contagem por colaborador: 11991.3\n"
          ]
        }
      ]
    }
  ]
}